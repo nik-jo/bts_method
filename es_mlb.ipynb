{
 "cells": [
  {
   "cell_type": "code",
   "execution_count": 12,
   "id": "2eb570cf",
   "metadata": {},
   "outputs": [],
   "source": [
    "from elasticsearch import Elasticsearch"
   ]
  },
  {
   "cell_type": "code",
   "execution_count": 13,
   "id": "e598d02c",
   "metadata": {},
   "outputs": [],
   "source": [
    "es = Elasticsearch(hosts='http://localhost', port=9200)\n",
    "es = Elasticsearch()"
   ]
  },
  {
   "cell_type": "markdown",
   "id": "41245f0e",
   "metadata": {},
   "source": [
    "#### Create an index"
   ]
  },
  {
   "cell_type": "code",
   "execution_count": null,
   "id": "227470f4",
   "metadata": {
    "scrolled": true
   },
   "outputs": [],
   "source": [
    "es.indices.create(index='first_index')"
   ]
  },
  {
   "cell_type": "code",
   "execution_count": null,
   "id": "a4da79b4",
   "metadata": {
    "scrolled": true
   },
   "outputs": [],
   "source": [
    "es.indices.exists(index='first_index')"
   ]
  },
  {
   "cell_type": "code",
   "execution_count": null,
   "id": "2a76f85d",
   "metadata": {},
   "outputs": [],
   "source": [
    "es.indices.delete(index='first_index')"
   ]
  },
  {
   "cell_type": "code",
   "execution_count": null,
   "id": "e6f14d5c",
   "metadata": {},
   "outputs": [],
   "source": []
  }
 ],
 "metadata": {
  "kernelspec": {
   "display_name": "Python 3",
   "language": "python",
   "name": "python3"
  },
  "language_info": {
   "codemirror_mode": {
    "name": "ipython",
    "version": 3
   },
   "file_extension": ".py",
   "mimetype": "text/x-python",
   "name": "python",
   "nbconvert_exporter": "python",
   "pygments_lexer": "ipython3",
   "version": "3.9.4"
  }
 },
 "nbformat": 4,
 "nbformat_minor": 5
}
