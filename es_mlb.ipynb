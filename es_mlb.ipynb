{
 "cells": [
  {
   "cell_type": "code",
   "execution_count": 12,
   "id": "2eb570cf",
   "metadata": {},
   "outputs": [],
   "source": [
    "from elasticsearch import Elasticsearch\n",
    "import statsapi"
   ]
  },
  {
   "cell_type": "code",
   "execution_count": 3,
   "id": "e598d02c",
   "metadata": {},
   "outputs": [],
   "source": [
    "es = Elasticsearch(hosts='http://localhost', port=9200)\n",
    "es = Elasticsearch()"
   ]
  },
  {
   "cell_type": "markdown",
   "id": "41245f0e",
   "metadata": {},
   "source": [
    "#### Create an index"
   ]
  },
  {
   "cell_type": "code",
   "execution_count": 9,
   "id": "227470f4",
   "metadata": {
    "scrolled": false
   },
   "outputs": [
    {
     "data": {
      "text/plain": [
       "{'acknowledged': True, 'shards_acknowledged': True, 'index': 'first_index'}"
      ]
     },
     "execution_count": 9,
     "metadata": {},
     "output_type": "execute_result"
    }
   ],
   "source": [
    "es.indices.create(index='first_index')"
   ]
  },
  {
   "cell_type": "code",
   "execution_count": 10,
   "id": "a4da79b4",
   "metadata": {
    "scrolled": true
   },
   "outputs": [
    {
     "data": {
      "text/plain": [
       "True"
      ]
     },
     "execution_count": 10,
     "metadata": {},
     "output_type": "execute_result"
    }
   ],
   "source": [
    "es.indices.exists(index='first_index')"
   ]
  },
  {
   "cell_type": "code",
   "execution_count": 18,
   "id": "e6f14d5c",
   "metadata": {},
   "outputs": [],
   "source": [
    "games = statsapi.schedule(start_date='01/01/2021', end_date='04/29/2021')\n",
    "for game in games:\n",
    "    box = statsapi.boxscore_data(game.get('game_id'), timecode=None)\n",
    "    game['home_batters'] = box.get('homeBatters')\n",
    "    game['away_batters'] = box.get('awayBatters')\n",
    "    for x in game['home_batters']:\n",
    "        if x['personId'] != '0' and x['ab'] != 'AB':\n",
    "            if int(x['ab']) == 0:\n",
    "                x['game_ba'] = 'N/A'\n",
    "            else:\n",
    "                x['game_ba'] = str(round(int(x['h'])/int(x['ab']), 3))\n",
    "    for x in game['away_batters']:\n",
    "        if x['personId'] != '0' and x['ab'] != 'AB':\n",
    "            if int(x['ab']) == 0:\n",
    "                x['game_ba'] = 'N/A'\n",
    "            else:\n",
    "                x['game_ba'] = str(round(int(x['h'])/int(x['ab']), 3))\n",
    "\n",
    "    es.index(index='mlb_2021',id=game_id,body=game)"
   ]
  },
  {
   "cell_type": "code",
   "execution_count": 17,
   "id": "e1425f3d",
   "metadata": {},
   "outputs": [
    {
     "data": {
      "text/plain": [
       "{'acknowledged': True}"
      ]
     },
     "execution_count": 17,
     "metadata": {},
     "output_type": "execute_result"
    }
   ],
   "source": [
    "es.indices.delete(index='games')"
   ]
  },
  {
   "cell_type": "code",
   "execution_count": null,
   "id": "13cf0e38",
   "metadata": {},
   "outputs": [],
   "source": []
  }
 ],
 "metadata": {
  "kernelspec": {
   "display_name": "Python 3",
   "language": "python",
   "name": "python3"
  },
  "language_info": {
   "codemirror_mode": {
    "name": "ipython",
    "version": 3
   },
   "file_extension": ".py",
   "mimetype": "text/x-python",
   "name": "python",
   "nbconvert_exporter": "python",
   "pygments_lexer": "ipython3",
   "version": "3.9.4"
  }
 },
 "nbformat": 4,
 "nbformat_minor": 5
}
